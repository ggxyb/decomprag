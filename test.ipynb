{
 "cells": [
  {
   "cell_type": "code",
   "execution_count": 1,
   "metadata": {},
   "outputs": [],
   "source": [
    "import os\n",
    "os.environ[\"CUDA_VISIBLE_DEVIES\"]=\"0,5,6,7\"\n",
    "import torch\n",
    "# 设置可见的GPU\n",
    "# torch.cuda.set_device(\"cuda:7\")\n"
   ]
  },
  {
   "cell_type": "code",
   "execution_count": 2,
   "metadata": {},
   "outputs": [
    {
     "name": "stderr",
     "output_type": "stream",
     "text": [
      "/home/nsf/anaconda3/envs/dragin/lib/python3.9/site-packages/tqdm/auto.py:21: TqdmWarning: IProgress not found. Please update jupyter and ipywidgets. See https://ipywidgets.readthedocs.io/en/stable/user_install.html\n",
      "  from .autonotebook import tqdm as notebook_tqdm\n",
      "INFO:generate:Loading model from meta-llama/Llama-2-7b-chat-hf\n",
      "Loading checkpoint shards: 100%|██████████| 2/2 [00:10<00:00,  5.06s/it]\n",
      "Using pad_token, but it is not set yet.\n"
     ]
    }
   ],
   "source": [
    "# 目录设置为 src\n",
    "import sys\n",
    "sys.path.append(\"src\")\n",
    "\n",
    "from generate import BasicGenerator\n",
    "\n",
    "generator = BasicGenerator(\"meta-llama/Llama-2-7b-chat-hf\")\n"
   ]
  },
  {
   "cell_type": "code",
   "execution_count": 4,
   "metadata": {},
   "outputs": [],
   "source": [
    "import json\n",
    "import os\n",
    "data_path = 'data/2wikimultihopqa/'\n",
    "with open(os.path.join(data_path, 'dev_10.json'), 'r') as fin:\n",
    "    js = json.load(fin)"
   ]
  },
  {
   "cell_type": "code",
   "execution_count": 6,
   "metadata": {},
   "outputs": [
    {
     "data": {
      "text/plain": [
       "{'_id': 'e2a3bf2a0bdd11eba7f7acde48001122',\n",
       " 'type': 'compositional',\n",
       " 'question': \"When did John V, Prince Of Anhalt-Zerbst's father die?\",\n",
       " 'context': [['Karl I, Prince of Anhalt-Zerbst',\n",
       "   ['Karl I of Anhalt- Zerbst( 17 November 1534 in Dessau – 4 May 1561 in Zerbst), was a German prince of the House of Ascania and ruler of the principality of Anhalt- Zerbst.',\n",
       "    'He was the eldest son of John V, Prince of Anhalt- Zerbst, by his wife Margaret, daughter of Joachim I Nestor, Elector of Brandenburg.']],\n",
       "  ['Bernhard VII, Prince of Anhalt-Zerbst',\n",
       "   ['Bernhard VII of Anhalt- Zerbst( 17 March 1540 – 1 March 1570), was a German prince of the House of Ascania and ruler of the principality of Anhalt- Zerbst.',\n",
       "    'He was born and died in Dessau, and was the third and youngest son of John V, Prince of Anhalt- Zerbst by his wife Margaret, daughter of Joachim I Nestor, Elector of Brandenburg.']],\n",
       "  ['Ernest I, Prince of Anhalt-Dessau',\n",
       "   ['Ernest I, Prince of Anhalt-Dessau (died Dessau, 12 June 1516), was a German prince of the House of Ascania and ruler of the principality of Anhalt-Dessau.',\n",
       "    'He was the second son of George I, Prince of Anhalt-Dessau, yet the first born by his fourth wife Anna, daughter of Albert VIII, Count of Lindow-Ruppin.']],\n",
       "  ['Waldemar I, Prince of Anhalt-Zerbst',\n",
       "   ['Waldemar I, Prince of Anhalt- Zerbst( died 7 January 1368) was a German prince of the House of Ascania and ruler of the principality of Anhalt- Zerbst.',\n",
       "    'He was the youngest son of Albert I, Prince of Anhalt- Zerbst, by his second wife Agnes, daughter of Conrad, Margrave of Brandenburg- Stendal.']],\n",
       "  ['Albert III, Prince of Anhalt-Zerbst',\n",
       "   ['Albert III, Prince of Anhalt- Zerbst( died ca. 1 August 1359) was a German prince of the House of Ascania and ruler of the principality of Anhalt- Zerbst.',\n",
       "    'He was the eldest son of Albert II, Prince of Anhalt- Zerbst, by his second wife Beatrix, daughter of Rudolf I, Elector of Saxony and Duke of Saxe- Wittemberg.']],\n",
       "  ['Albert II, Prince of Anhalt-Zerbst',\n",
       "   ['Albert II, Prince of Anhalt- Zerbst( died 17 July 1362) was a German prince of the House of Ascania and ruler of the principality of Anhalt- Zerbst.',\n",
       "    'He was the third son of Albert I, Prince of Anhalt- Zerbst, but the eldest child born to his second wife Agnes, daughter of Conrad, Margrave of Brandenburg- Stendal.']],\n",
       "  ['Waldemar III, Prince of Anhalt-Zerbst',\n",
       "   ['Waldemar III, Prince of Anhalt- Zerbst( died 1391) was a German prince of the House of Ascania and ruler of the principality of Anhalt- Zerbst.',\n",
       "    'He was the youngest son of John II, Prince of Anhalt- Zerbst, by his wife Elisabeth, daughter of John I, Count of Henneberg- Schleusingen.']],\n",
       "  ['John VI, Prince of Anhalt-Zerbst',\n",
       "   ['John VI of Anhalt-Zerbst (Zerbst, 24 March 1621 – Zerbst, 4 July 1667), was a German prince of the House of Ascania and ruler of the principality of Anhalt-Zerbst.',\n",
       "    'He was the only son of Rudolph, Prince of Anhalt-Zerbst, by his second wife Magdalene, daughter of John VII, Count of Oldenburg.']],\n",
       "  ['John II, Prince of Anhalt-Zerbst',\n",
       "   ['John II, Prince of Anhalt- Zerbst( died 11 April 1382) was a German prince of the House of Ascania and ruler of the principality of Anhalt- Zerbst.',\n",
       "    'He was the youngest son of Albert II, Prince of Anhalt- Zerbst, by his second wife Beatrix, daughter of Rudolf I, Elector of Saxony and Duke of Saxe- Wittemberg.']],\n",
       "  ['John V, Prince of Anhalt-Zerbst',\n",
       "   ['John V of Anhalt-Zerbst (Dessau, 4 September 1504 – Zerbst, 4 February 1551), was a German prince of the House of Ascania and ruler of the principality of Anhalt-Dessau.',\n",
       "    'From 1544, he assumed rule of the re-created principality of Anhalt-Zerbst.',\n",
       "    'John was the second (but eldest surviving) son of Ernest I, Prince of Anhalt-Dessau, by his wife Margarete, daughter of Henry I, Duke of Münsterberg-Oels, and granddaughter of George of Poděbrady, King of Bohemia.']]],\n",
       " 'entity_ids': 'Q89423_Q78137',\n",
       " 'supporting_facts': [['John V, Prince of Anhalt-Zerbst', 2],\n",
       "  ['Ernest I, Prince of Anhalt-Dessau', 0]],\n",
       " 'evidences': [['John V of Anhalt-Zerbst',\n",
       "   'father',\n",
       "   'Ernest I, Prince of Anhalt-Dessau'],\n",
       "  ['Ernest I, Prince of Anhalt-Dessau', 'date of death', '12 June 1516']],\n",
       " 'answer': '12 June 1516',\n",
       " 'evidences_id': [['Q89423', 'father', 'Q78137'],\n",
       "  ['Q78137', 'date of death', 'date_information']],\n",
       " 'answer_id': None}"
      ]
     },
     "execution_count": 6,
     "metadata": {},
     "output_type": "execute_result"
    }
   ],
   "source": [
    "js[2]"
   ]
  },
  {
   "cell_type": "code",
   "execution_count": 8,
   "metadata": {},
   "outputs": [
    {
     "name": "stderr",
     "output_type": "stream",
     "text": [
      "INFO:root:Activating Elasticsearch....\n",
      "INFO:root:Elastic Search Credentials: {'hostname': 'localhost', 'index_name': 'wiki', 'keys': {'title': 'title', 'body': 'txt'}, 'timeout': 100, 'retry_on_timeout': True, 'maxsize': 24, 'number_of_shards': 1, 'language': 'english'}\n"
     ]
    }
   ],
   "source": [
    "from src.retriever import BM25\n",
    "from transformers import AutoTokenizer\n",
    "\n",
    "tokenizer =  AutoTokenizer.from_pretrained(\"meta-llama/Llama-2-7b-chat-hf\")\n",
    "tokenizer.pad_token = tokenizer.eos_token\n",
    "retriever = BM25(\n",
    "                    tokenizer = tokenizer,\n",
    "                    index_name = \"wiki\",\n",
    "                    engine = \"elasticsearch\",\n",
    "                )"
   ]
  },
  {
   "cell_type": "code",
   "execution_count": 9,
   "metadata": {},
   "outputs": [],
   "source": [
    "query = \"\"\"\n",
    "Ernest I, Prince of Anhalt-Dessau, father of John V, Prince of Anhalt-Zerbst, died in 1602.\n",
    "\"\"\"\n",
    "\n",
    "_docs_ids, docs1 = retriever.retrieve(\n",
    "                queries = [query],\n",
    "                topk = 5,\n",
    "                max_query_length = 64,\n",
    "            )"
   ]
  },
  {
   "cell_type": "code",
   "execution_count": 36,
   "metadata": {},
   "outputs": [
    {
     "name": "stdout",
     "output_type": "stream",
     "text": [
      "John V, Prince of Anhalt-Zerbst John V of Anhalt-Zerbst (Dessau, 4 September 1504 – Zerbst, 4 February 1551), was a Germ\n",
      "an prince of the House of Ascania and ruler of the principality of Anhalt-Dessau. From 1544, he assumed rule of the re-c\n",
      "reated principality of Anhalt-Zerbst. John was the second (but eldest surviving) son of Ernest I, Prince of Anhalt-Dessa\n",
      "u, by his wife Margarete, daughter of Henry I, Duke of Münsterberg-Oels, and granddaughter of George of Poděbrady, King \n",
      "of Bohemia. Upon the death of his father in 1516, John and his brothers George III and Joachim I inherited Anhalt-Dessau\n",
      " as co-rulers\n",
      "--------------------------------------------------------------------------------\n",
      "Bernhard VII, Prince of Anhalt-Zerbst Bernhard VII of Anhalt-Zerbst (17 March 1540 – 1 March 1570), was a German prince \n",
      "of the House of Ascania and ruler of the principality of Anhalt-Zerbst. He was born and died in Dessau, and was the thir\n",
      "d and youngest son of John V, Prince of Anhalt-Zerbst by his wife Margaret, daughter of Joachim I Nestor, Elector of Bra\n",
      "ndenburg. Bernhard inherited Anhalt-Zerbst when his father died in 1551 along with his older brothers Karl I and Joachim\n",
      " Ernest according to the stipulations of the family law of the House of Ascania, which mandated no division\n",
      "--------------------------------------------------------------------------------\n",
      "They had only one son: Bernhard died without surviving male heirs and was succeeded by his brother Joachim Ernest, who b\n",
      "ecame sole ruler of all the Anhalt territories. Bernhard VII, Prince of Anhalt-Zerbst Bernhard VII of Anhalt-Zerbst (17 \n",
      "March 1540 – 1 March 1570), was a German prince of the House of Ascania and ruler of the principality of Anhalt-Zerbst. \n",
      "He was born and died in Dessau, and was the third and youngest son of John V, Prince of Anhalt-Zerbst by his wife Margar\n",
      "et, daughter of Joachim I Nestor, Elector of Brandenburg. Bernhard inherited Anhalt-Zerbst when his father died in\n",
      "--------------------------------------------------------------------------------\n",
      "Karl I, Prince of Anhalt-Zerbst Karl I of Anhalt-Zerbst (17 November 1534 in Dessau – 4 May 1561 in Zerbst), was a Germa\n",
      "n prince of the House of Ascania and ruler of the principality of Anhalt-Zerbst. He was the eldest son of John V, Prince\n",
      " of Anhalt-Zerbst, by his wife Margaret, daughter of Joachim I Nestor, Elector of Brandenburg. After the death of his fa\n",
      "ther in 1551, Karl inherited Anhalt-Zerbst jointly with his younger brothers Joachim Ernest and Bernhard VII according t\n",
      "o the family law of the House of Ascania, without any division of the territories of the principality. In\n",
      "--------------------------------------------------------------------------------\n",
      "Sigismund I, Prince of Anhalt-Dessau Sigismund I, Prince of Anhalt-Dessau (died Coswig, 19 January 1405), was a German p\n",
      "rince of the House of Ascania and ruler of the principality of Anhalt-Zerbst until 1396, when he became the first ruler \n",
      "of the principality of Anhalt-Dessau. He was the eldest son of John II, Prince of Anhalt-Zerbst, by his wife Elisabeth, \n",
      "daughter of John I, Count of Henneberg-Schleusingen. In 1382, after the death of his father, Sigismund inherited the pri\n",
      "ncipality of Anhalt-Zerbst jointly with his brothers Albert IV and Waldemar III. After the death of Waldemar in 1391, Si\n",
      "gismund and Albert became\n",
      "--------------------------------------------------------------------------------\n"
     ]
    }
   ],
   "source": [
    "for doc in docs1[0]:\n",
    "    # print(doc)\n",
    "    # print(80*'-')\n",
    "    print('\\n'.join([doc[i:i+120] for i in range(0, len(doc), 120)]))\n",
    "    print(80*'-')"
   ]
  },
  {
   "cell_type": "code",
   "execution_count": 79,
   "metadata": {},
   "outputs": [],
   "source": [
    "query = \"\"\"\n",
    "Date of death of John V, Prince of Anhalt-Zerbst's father.\n",
    "\"\"\"\n",
    "\n",
    "_docs_ids, docs2 = retriever.retrieve(\n",
    "                queries = [query],\n",
    "                topk = 5,\n",
    "                max_query_length = 64,\n",
    "            )"
   ]
  },
  {
   "cell_type": "code",
   "execution_count": 11,
   "metadata": {},
   "outputs": [
    {
     "ename": "NameError",
     "evalue": "name 'docs2' is not defined",
     "output_type": "error",
     "traceback": [
      "\u001b[0;31m---------------------------------------------------------------------------\u001b[0m",
      "\u001b[0;31mNameError\u001b[0m                                 Traceback (most recent call last)",
      "Cell \u001b[0;32mIn[11], line 1\u001b[0m\n\u001b[0;32m----> 1\u001b[0m \u001b[38;5;28;01mfor\u001b[39;00m doc \u001b[38;5;129;01min\u001b[39;00m \u001b[43mdocs2\u001b[49m[\u001b[38;5;241m0\u001b[39m]:\n\u001b[1;32m      2\u001b[0m     \u001b[38;5;66;03m# print(doc)\u001b[39;00m\n\u001b[1;32m      3\u001b[0m     \u001b[38;5;66;03m# print(80*'-')\u001b[39;00m\n\u001b[1;32m      4\u001b[0m     \u001b[38;5;28mprint\u001b[39m(\u001b[38;5;124m'\u001b[39m\u001b[38;5;130;01m\\n\u001b[39;00m\u001b[38;5;124m'\u001b[39m\u001b[38;5;241m.\u001b[39mjoin([doc[i:i\u001b[38;5;241m+\u001b[39m\u001b[38;5;241m120\u001b[39m] \u001b[38;5;28;01mfor\u001b[39;00m i \u001b[38;5;129;01min\u001b[39;00m \u001b[38;5;28mrange\u001b[39m(\u001b[38;5;241m0\u001b[39m, \u001b[38;5;28mlen\u001b[39m(doc), \u001b[38;5;241m120\u001b[39m)]))\n\u001b[1;32m      5\u001b[0m     \u001b[38;5;28mprint\u001b[39m(\u001b[38;5;241m80\u001b[39m\u001b[38;5;241m*\u001b[39m\u001b[38;5;124m'\u001b[39m\u001b[38;5;124m-\u001b[39m\u001b[38;5;124m'\u001b[39m)\n",
      "\u001b[0;31mNameError\u001b[0m: name 'docs2' is not defined"
     ]
    }
   ],
   "source": [
    "for doc in docs2[0]:\n",
    "    # print(doc)\n",
    "    # print(80*'-')\n",
    "    print('\\n'.join([doc[i:i+120] for i in range(0, len(doc), 120)]))\n",
    "    print(80*'-')"
   ]
  },
  {
   "cell_type": "code",
   "execution_count": 10,
   "metadata": {},
   "outputs": [],
   "source": [
    "cot = \"\"\"\n",
    "Question: When did the director of film Hypocrite (Film) die?\n",
    "Answer: The film Hypocrite was directed by Miguel Morayta. Miguel Morayta died on 19 June 2013. So the answer is 19 June 2013.\n",
    "Question: Are both Kurram Garhi and Trojkrsti located in the same country?\n",
    "Answer: Kurram Garhi is located in the country of Pakistan. Trojkrsti is located in the country of Republic of Macedonia. Thus, they are not in the same country. So the answer is no.\n",
    "Question: Do director of film Coolie No. 1 (1995 Film) and director of film The Sensational Trial have the same nationality?\n",
    "Answer: Coolie No. 1 (1995 film) was directed by David Dhawan. The Sensational Trial was directed by Karl Freund. David Dhawan's nationality is India. Karl Freund's nationality is Germany. Thus, they do not have the same nationality. So the answer is no.\n",
    "Question: Who is Boraqchin (Wife Of Ögedei)'s father-in-law?\n",
    "Answer: Boraqchin is married to Ögedei Khan. Ögedei Khan's father is Genghis Khan. Thus, Boraqchin's father-in-law is Genghis Khan. So the answer is Genghis Khan.\n",
    "Question: Who was born first out of Martin Hodge and Ivania Martinich?\n",
    "Answer: Martin Hodge was born on 4 February 1959. Ivania Martinich was born on 25 July 1995. Thus, Martin Hodge was born first. So the answer is Martin Hodge.\n",
    "Question: When did the director of film Laughter In Hell die?\n",
    "Answer: The film Laughter In Hell was directed by Edward L. Cahn. Edward L. Cahn died on August 25, 1963. So the answer is August 25, 1963.\n",
    "\"\"\"\n",
    "# prompt = \"Context: \"\n",
    "# prompt += docs1[0][0]\n",
    "# prompt += docs2[0][0]\n",
    "prompt = \"\\nIdentify the essential information required to answer the question, listing them as 1. 2. \\n\"\n",
    "prompt += \"Question is: \" + js[2]['question']\n",
    "prompt += \"\\nmissing: \"\n",
    "res, _, _ = generator.generate(prompt, max_length=128)"
   ]
  },
  {
   "cell_type": "code",
   "execution_count": 41,
   "metadata": {},
   "outputs": [
    {
     "name": "stdout",
     "output_type": "stream",
     "text": [
      "Question: When did John V, Prince Of Anhalt-Zerbst's father die?\n",
      "Identify the essential key information required to answer the question, listing them as 1. 2. \n",
      "\n",
      "missing: \n"
     ]
    }
   ],
   "source": [
    "print(prompt)"
   ]
  },
  {
   "cell_type": "code",
   "execution_count": 12,
   "metadata": {},
   "outputs": [
    {
     "name": "stdout",
     "output_type": "stream",
     "text": [
      "\n",
      "\n",
      "1. Name of John V, Prince Of Anhalt-Zerbst's father\n",
      "2. Date of death of John V, Prince Of Anhalt-Zerbst's father\n",
      "\n",
      "Answer:\n",
      "John V, Prince Of Anhalt-Zerbst's father, Christian August, died on 10th August 1747.</s>\n"
     ]
    }
   ],
   "source": [
    "print(res)"
   ]
  },
  {
   "cell_type": "code",
   "execution_count": 79,
   "metadata": {},
   "outputs": [],
   "source": [
    "prompt = \"Name of John V, Prince Of Anhalt-Zerbst's father\"\n",
    "\n",
    "prompt += \"Check the answer for logical errors. If there are any, output correction suggestions; otherwise, output \\\"The answer is complete\\\".\\n Here is the answer:\\n\"\n",
    "prompt += res + \"\\n\"\n",
    "prompt += \"Provide a brief analysis. Correction suggestions:\"\n",
    "\n",
    "rep, _, _ = generator.generate(prompt, max_length=128)"
   ]
  },
  {
   "cell_type": "code",
   "execution_count": 80,
   "metadata": {},
   "outputs": [
    {
     "data": {
      "text/plain": [
       "'\\nBlind Shaft (2007) was released before The Mask Of Fu Manchu (1965).\\nThe answer is complete.</s>'"
      ]
     },
     "execution_count": 80,
     "metadata": {},
     "output_type": "execute_result"
    }
   ],
   "source": [
    "rep"
   ]
  },
  {
   "cell_type": "code",
   "execution_count": 41,
   "metadata": {},
   "outputs": [],
   "source": [
    "res = js[0]['question']\n",
    "# 删除()内的内容\n",
    "import re\n",
    "res = re.sub(r'\\([^)]*\\)', '', res)\n",
    "res\n",
    "prompt = \"Analyze following question and answer.\"\n",
    "prompt += \"Please format the output as 1.xxx2.xxx. \"\n",
    "prompt += \"Question: \" + res + \"\\n\"\n",
    "prompt += \"Answer: \"\n",
    "# prompt += \"1. The director of film Polish-Russian War is Xawery Żuławski. \"\n",
    "# prompt += \"Xawery Żuławski's mother is Maria Kuncewicz. \"\n",
    "# prompt += \"So the answer is Maria Kuncewicz. \"\n",
    "# prompt += \"\\nThe next steps are: \"\n",
    "rep, _, _ = generator.generate(prompt, max_length=128)"
   ]
  },
  {
   "cell_type": "code",
   "execution_count": 11,
   "metadata": {},
   "outputs": [
    {
     "data": {
      "text/plain": [
       "\"Context: John V, Prince of Anhalt-Zerbst John V of Anhalt-Zerbst (Dessau, 4 September 1504 – Zerbst, 4 February 1551), was a German prince of the House of Ascania and ruler of the principality of Anhalt-Dessau. From 1544, he assumed rule of the re-created principality of Anhalt-Zerbst. John was the second (but eldest surviving) son of Ernest I, Prince of Anhalt-Dessau, by his wife Margarete, daughter of Henry I, Duke of Münsterberg-Oels, and granddaughter of George of Poděbrady, King of Bohemia. Upon the death of his father in 1516, John and his brothers George III and Joachim I inherited Anhalt-Dessau as co-rulers\\n Answer the following question by reasoning step-by-step. Question: When did John V, Prince Of Anhalt-Zerbst's father die?\\nAnswer:\""
      ]
     },
     "execution_count": 11,
     "metadata": {},
     "output_type": "execute_result"
    }
   ],
   "source": [
    "prompt"
   ]
  },
  {
   "cell_type": "code",
   "execution_count": 42,
   "metadata": {},
   "outputs": [
    {
     "data": {
      "text/plain": [
       "'1. The mother of the director of the film Polish-Russian War is not known.\\n2. The director of the film Polish-Russian War is not a real person, but a fictional character created for the purpose of the story.</s>'"
      ]
     },
     "execution_count": 42,
     "metadata": {},
     "output_type": "execute_result"
    }
   ],
   "source": [
    "rep"
   ]
  },
  {
   "cell_type": "code",
   "execution_count": 45,
   "metadata": {},
   "outputs": [
    {
     "name": "stdout",
     "output_type": "stream",
     "text": [
      "tensor([1.0000, 1.0000, 1.0000, 1.0000, 1.0000, 1.0000, 1.0000, 1.0000, 0.8776,\n",
      "        1.0000, 1.0000, 1.0000], dtype=torch.float64)\n",
      "\n",
      "John V, Prince Of Anhalt-Zerbst's father was Christian August, Prince Of Anhalt-Zerbst.</s>\n"
     ]
    }
   ],
   "source": [
    "from torch import exp\n",
    "\n",
    "\n",
    "res = docs1[0][0]\n",
    "prompt = \"Context: \" + res + \"\\n\"\n",
    "prompt = \"Provide only the answer to sub-question 1: Name of John V, Prince Of Anhalt-Zerbst's father. \\n\"\n",
    "prompt += \"Answer to sub-question 1: \"\n",
    "# prompt += \"Answer: \"\n",
    "# prompt += \"John V, Prince of Anhalt-Zerbst's father is Ernest I, Prince of Anhalt-Dessau. Ernest I, Prince of Anhalt-Dessau died in 1602. So the answer is 1602.\"\n",
    "# prompt += \"\"\n",
    "# prompt += \"\\nInformation requirements: \"\n",
    "rep, _, _ = generator.generate(prompt, max_length=128)\n",
    "\n",
    "new_text, tokens, attns, logprobs, entropies = generator.generate_attn(\n",
    "                prompt,\n",
    "                128,\n",
    "                # self.attention_solver,\n",
    "                use_entropy =False,\n",
    "                use_logprob = True\n",
    "            )\n",
    "logprobs = torch.tensor(logprobs)\n",
    "print(exp(logprobs))\n",
    "\n",
    "\n",
    "\n",
    "\n",
    "print(rep)\n",
    "# prompt += rep.strip() + \"\\n\"\n",
    "# prompt += \"Provide the confidence level of the answer as a score between 0 and 100. Confidence: \"\n",
    "# rep, _, _ = generator.generate(prompt, max_length=128)\n",
    "# print(rep)\n",
    "\n",
    "# new_text, tokens, attns, logprobs, entropies = generator.generate_attn(\n",
    "#                 prompt,\n",
    "#                 128,\n",
    "#                 # self.attention_solver,\n",
    "#                 use_entropy =False,\n",
    "#                 use_logprob = True\n",
    "#             )\n",
    "# logprobs = torch.tensor(logprobs)\n",
    "# print(exp(logprobs))"
   ]
  },
  {
   "cell_type": "code",
   "execution_count": 36,
   "metadata": {},
   "outputs": [
    {
     "name": "stdout",
     "output_type": "stream",
     "text": [
      "[0.671502153078715]\n"
     ]
    }
   ],
   "source": [
    "new_text, tokens, attns, logprobs, entropies = generator.generate_attn(\n",
    "                prompt,\n",
    "                128,\n",
    "                # self.attention_solver,\n",
    "                use_entropy =True,\n",
    "                use_logprob = False\n",
    "            )\n",
    "print(entropies)"
   ]
  },
  {
   "cell_type": "code",
   "execution_count": 17,
   "metadata": {},
   "outputs": [
    {
     "name": "stdout",
     "output_type": "stream",
     "text": [
      "\n",
      "Please answer the following questions and provide the confidence level of each answer using \"Certain\" or \"Uncertain\". Format your response as follows:\n",
      "\n",
      "1. Question 1\n",
      "Answer: [Your answer]\n",
      "Confidence: Certain/Uncertain\n",
      "\n",
      "2. Question 2\n",
      "Answer: [Your answer]\n",
      "Confidence: Certain/Uncertain\n",
      "\n",
      "Ensure each answer is followed by the corresponding confidence level.\n",
      "Name of John V, Prince Of Anhalt-Zerbst's father. \n",
      "\n"
     ]
    }
   ],
   "source": [
    "print(prompt)"
   ]
  },
  {
   "cell_type": "code",
   "execution_count": 44,
   "metadata": {},
   "outputs": [],
   "source": [
    "res = js[2]['question']\n",
    "prompt = \"John V, Prince of Anhalt-Zerbst's father is Ernest I, Prince of Anhalt-Dessau. \"\n",
    "# prompt += \"\\nInformation requirements: \"\n",
    "prompt += \"Date of death of John V, Prince of Anhalt-Zerbst's father. \"\n",
    "prompt += \"Combine the above content into one sentence as a search keyword. \"\n",
    "prompt += \"Search keyword: \"\n",
    "rep, _, _ = generator.generate(prompt, max_length=64)\n"
   ]
  },
  {
   "cell_type": "code",
   "execution_count": 102,
   "metadata": {},
   "outputs": [
    {
     "data": {
      "text/plain": [
       "\"John V, Prince of Anhalt-Zerbst's father Ernest I, Prince of Anhalt-Dessau died in 1692.</s>\""
      ]
     },
     "execution_count": 102,
     "metadata": {},
     "output_type": "execute_result"
    }
   ],
   "source": [
    "rep"
   ]
  },
  {
   "cell_type": "code",
   "execution_count": 96,
   "metadata": {},
   "outputs": [],
   "source": [
    "import spacy\n",
    "nlp = spacy.load(\"en_core_web_sm\")\n",
    "\n",
    "missing = rep\n",
    "missing = [sent.text for sent in nlp(missing).sents]\n",
    "\n",
    "# missing = [m.split(f\"{i}.\")[1] for i, m in enumerate(missing) if len(m.strip()) > 0]"
   ]
  },
  {
   "cell_type": "code",
   "execution_count": 97,
   "metadata": {},
   "outputs": [
    {
     "name": "stdout",
     "output_type": "stream",
     "text": [
      "\n",
      "\n",
      "Answer: The director of film Wearing Velvet Slippers Under A Golden Umbrella won the Best Director award at the 2019 Cannes Film Festival.\n",
      "\n",
      "\n",
      "--------------------------------------------------------------------------------\n",
      "Missing:\n",
      "1.\n",
      "--------------------------------------------------------------------------------\n",
      "Information on the film Wearing Velvet Slippers Under A Golden Umbre\n",
      "--------------------------------------------------------------------------------\n"
     ]
    }
   ],
   "source": [
    "for m in missing:\n",
    "    print(m)\n",
    "    print(80*'-')"
   ]
  },
  {
   "cell_type": "code",
   "execution_count": 20,
   "metadata": {},
   "outputs": [
    {
     "name": "stdout",
     "output_type": "stream",
     "text": [
      "['The name of the director of the film Polish-Russian War.', 'The name of the mother of the director.']\n"
     ]
    }
   ],
   "source": [
    "import re\n",
    "info = []\n",
    "matched_sentences = re.findall(r'\\d+\\.\\s*(.+)', missing)\n",
    "\n",
    "# 存储提取到的句子\n",
    "extracted_sentences = [sentence.strip() for sentence in matched_sentences]\n",
    "\n",
    "print(extracted_sentences)"
   ]
  },
  {
   "cell_type": "code",
   "execution_count": 19,
   "metadata": {},
   "outputs": [
    {
     "data": {
      "text/plain": [
       "[]"
      ]
     },
     "execution_count": 19,
     "metadata": {},
     "output_type": "execute_result"
    }
   ],
   "source": [
    "matched_sentences"
   ]
  }
 ],
 "metadata": {
  "kernelspec": {
   "display_name": ".env",
   "language": "python",
   "name": "python3"
  },
  "language_info": {
   "codemirror_mode": {
    "name": "ipython",
    "version": 3
   },
   "file_extension": ".py",
   "mimetype": "text/x-python",
   "name": "python",
   "nbconvert_exporter": "python",
   "pygments_lexer": "ipython3",
   "version": "3.9.19"
  }
 },
 "nbformat": 4,
 "nbformat_minor": 2
}
